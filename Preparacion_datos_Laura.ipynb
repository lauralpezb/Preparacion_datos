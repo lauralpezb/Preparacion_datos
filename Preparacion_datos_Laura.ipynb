{
 "cells": [
  {
   "cell_type": "markdown",
   "metadata": {},
   "source": [
    "# Preparación de datos <a class=\"tocSkip\">\n",
    "### Laura Cristina López Bedoya <a class=\"tocSkip\">\n",
    "### Base de datos: datos_credito_alemania.csv <a class=\"tocSkip\">"
   ]
  },
  {
   "cell_type": "code",
   "execution_count": 301,
   "metadata": {},
   "outputs": [],
   "source": [
    "# Importar librerias para la preparación y visualización de los datos\n",
    "import pandas as pd\n",
    "import matplotlib.pyplot as plt\n",
    "import seaborn as sns\n",
    "import numpy as np\n",
    "%matplotlib inline"
   ]
  },
  {
   "cell_type": "code",
   "execution_count": 302,
   "metadata": {
    "scrolled": false
   },
   "outputs": [
    {
     "data": {
      "text/html": [
       "<div>\n",
       "<style scoped>\n",
       "    .dataframe tbody tr th:only-of-type {\n",
       "        vertical-align: middle;\n",
       "    }\n",
       "\n",
       "    .dataframe tbody tr th {\n",
       "        vertical-align: top;\n",
       "    }\n",
       "\n",
       "    .dataframe thead th {\n",
       "        text-align: right;\n",
       "    }\n",
       "</style>\n",
       "<table border=\"1\" class=\"dataframe\">\n",
       "  <thead>\n",
       "    <tr style=\"text-align: right;\">\n",
       "      <th></th>\n",
       "      <th>Unnamed: 0</th>\n",
       "      <th>Age</th>\n",
       "      <th>Sex</th>\n",
       "      <th>Job</th>\n",
       "      <th>Housing</th>\n",
       "      <th>Saving accounts</th>\n",
       "      <th>Checking account</th>\n",
       "      <th>Credit amount</th>\n",
       "      <th>Duration</th>\n",
       "      <th>Purpose</th>\n",
       "      <th>Risk</th>\n",
       "    </tr>\n",
       "  </thead>\n",
       "  <tbody>\n",
       "    <tr>\n",
       "      <th>0</th>\n",
       "      <td>0.0</td>\n",
       "      <td>67.0</td>\n",
       "      <td>male</td>\n",
       "      <td>2.0</td>\n",
       "      <td>own</td>\n",
       "      <td>NaN</td>\n",
       "      <td>little</td>\n",
       "      <td>1169.0</td>\n",
       "      <td>6.0</td>\n",
       "      <td>radio/TV</td>\n",
       "      <td>good</td>\n",
       "    </tr>\n",
       "    <tr>\n",
       "      <th>1</th>\n",
       "      <td>1.0</td>\n",
       "      <td>22.0</td>\n",
       "      <td>female</td>\n",
       "      <td>2.0</td>\n",
       "      <td>own</td>\n",
       "      <td>little</td>\n",
       "      <td>moderate</td>\n",
       "      <td>5951.0</td>\n",
       "      <td>48.0</td>\n",
       "      <td>radio/TV</td>\n",
       "      <td>bad</td>\n",
       "    </tr>\n",
       "    <tr>\n",
       "      <th>2</th>\n",
       "      <td>2.0</td>\n",
       "      <td>49.0</td>\n",
       "      <td>male</td>\n",
       "      <td>1.0</td>\n",
       "      <td>own</td>\n",
       "      <td>little</td>\n",
       "      <td>NaN</td>\n",
       "      <td>2096.0</td>\n",
       "      <td>12.0</td>\n",
       "      <td>education</td>\n",
       "      <td>good</td>\n",
       "    </tr>\n",
       "    <tr>\n",
       "      <th>3</th>\n",
       "      <td>3.0</td>\n",
       "      <td>45.0</td>\n",
       "      <td>male</td>\n",
       "      <td>2.0</td>\n",
       "      <td>free</td>\n",
       "      <td>little</td>\n",
       "      <td>little</td>\n",
       "      <td>7882.0</td>\n",
       "      <td>42.0</td>\n",
       "      <td>furniture/equipment</td>\n",
       "      <td>good</td>\n",
       "    </tr>\n",
       "    <tr>\n",
       "      <th>4</th>\n",
       "      <td>4.0</td>\n",
       "      <td>53.0</td>\n",
       "      <td>male</td>\n",
       "      <td>2.0</td>\n",
       "      <td>free</td>\n",
       "      <td>little</td>\n",
       "      <td>little</td>\n",
       "      <td>4870.0</td>\n",
       "      <td>24.0</td>\n",
       "      <td>car</td>\n",
       "      <td>bad</td>\n",
       "    </tr>\n",
       "  </tbody>\n",
       "</table>\n",
       "</div>"
      ],
      "text/plain": [
       "   Unnamed: 0   Age     Sex  Job Housing Saving accounts Checking account  \\\n",
       "0         0.0  67.0    male  2.0     own             NaN           little   \n",
       "1         1.0  22.0  female  2.0     own          little         moderate   \n",
       "2         2.0  49.0    male  1.0     own          little              NaN   \n",
       "3         3.0  45.0    male  2.0    free          little           little   \n",
       "4         4.0  53.0    male  2.0    free          little           little   \n",
       "\n",
       "   Credit amount  Duration              Purpose  Risk  \n",
       "0         1169.0       6.0             radio/TV  good  \n",
       "1         5951.0      48.0             radio/TV   bad  \n",
       "2         2096.0      12.0            education  good  \n",
       "3         7882.0      42.0  furniture/equipment  good  \n",
       "4         4870.0      24.0                  car   bad  "
      ]
     },
     "execution_count": 302,
     "metadata": {},
     "output_type": "execute_result"
    }
   ],
   "source": [
    "#Leer la base de datos\n",
    "datos = pd.read_csv('datos_credito_alemania.csv')\n",
    "datos.head()"
   ]
  },
  {
   "cell_type": "markdown",
   "metadata": {},
   "source": [
    "## Información de la tabla\n",
    "#### En este dataset, cada fila representa a una persona que toma un crédito de un banco. Cada persona se clasifica como riesgos de crédito buenos o malos según el conjunto de atributos. La idea es crear un sistema con aprendizaje de maquina que permita determinar si un cliente es un riesgo bueno o malo para prestarle dinero.\n",
    "\n",
    "- Age (numeric)\n",
    "- Sex (text: male, female)\n",
    "- Job (numeric: 0 - unskilled and non-resident, 1 - unskilled and resident, 2 - skilled, 3 - highly skilled)\n",
    "- Housing (text: own, rent, or free)\n",
    "- Saving accounts (text - little, moderate, quite rich, rich)\n",
    "- Checking account (numeric, in DM - Deutsch Mark)\n",
    "- Credit amount (numeric, in DM)\n",
    "- Duration (numeric, in month)\n",
    "- Purpose (text: car, furniture/equipment, radio/TV, domestic appliances, repairs, education, business, vacation/others)\n",
    "\n",
    "\n",
    "#### DATOS DE SALIDA:\n",
    "- Risk - good or bad"
   ]
  },
  {
   "cell_type": "markdown",
   "metadata": {},
   "source": [
    "## Descripción de datos"
   ]
  },
  {
   "cell_type": "code",
   "execution_count": 303,
   "metadata": {},
   "outputs": [
    {
     "data": {
      "text/plain": [
       "Unnamed: 0          float64\n",
       "Age                 float64\n",
       "Sex                  object\n",
       "Job                 float64\n",
       "Housing              object\n",
       "Saving accounts      object\n",
       "Checking account     object\n",
       "Credit amount       float64\n",
       "Duration            float64\n",
       "Purpose              object\n",
       "Risk                 object\n",
       "dtype: object"
      ]
     },
     "execution_count": 303,
     "metadata": {},
     "output_type": "execute_result"
    }
   ],
   "source": [
    "datos.dtypes #Conocer de que tipo son las variables\n",
    "#Variables tipo object son categoricas\n",
    "#Variables tipo float64 son numericas"
   ]
  },
  {
   "cell_type": "code",
   "execution_count": 304,
   "metadata": {
    "scrolled": true
   },
   "outputs": [
    {
     "data": {
      "text/plain": [
       "(1062, 11)"
      ]
     },
     "execution_count": 304,
     "metadata": {},
     "output_type": "execute_result"
    }
   ],
   "source": [
    "datos.shape #Número de filas y columnas del dataset."
   ]
  },
  {
   "cell_type": "code",
   "execution_count": 305,
   "metadata": {
    "scrolled": false
   },
   "outputs": [
    {
     "data": {
      "text/html": [
       "<div>\n",
       "<style scoped>\n",
       "    .dataframe tbody tr th:only-of-type {\n",
       "        vertical-align: middle;\n",
       "    }\n",
       "\n",
       "    .dataframe tbody tr th {\n",
       "        vertical-align: top;\n",
       "    }\n",
       "\n",
       "    .dataframe thead th {\n",
       "        text-align: right;\n",
       "    }\n",
       "</style>\n",
       "<table border=\"1\" class=\"dataframe\">\n",
       "  <thead>\n",
       "    <tr style=\"text-align: right;\">\n",
       "      <th></th>\n",
       "      <th>Unnamed: 0</th>\n",
       "      <th>Age</th>\n",
       "      <th>Job</th>\n",
       "      <th>Credit amount</th>\n",
       "      <th>Duration</th>\n",
       "    </tr>\n",
       "  </thead>\n",
       "  <tbody>\n",
       "    <tr>\n",
       "      <th>count</th>\n",
       "      <td>1061.000000</td>\n",
       "      <td>1058.000000</td>\n",
       "      <td>1055.000000</td>\n",
       "      <td>1055.000000</td>\n",
       "      <td>1056.000000</td>\n",
       "    </tr>\n",
       "    <tr>\n",
       "      <th>mean</th>\n",
       "      <td>499.549482</td>\n",
       "      <td>35.483932</td>\n",
       "      <td>1.906161</td>\n",
       "      <td>3269.879621</td>\n",
       "      <td>20.942235</td>\n",
       "    </tr>\n",
       "    <tr>\n",
       "      <th>std</th>\n",
       "      <td>281.273262</td>\n",
       "      <td>11.285586</td>\n",
       "      <td>0.648828</td>\n",
       "      <td>2800.110643</td>\n",
       "      <td>12.091573</td>\n",
       "    </tr>\n",
       "    <tr>\n",
       "      <th>min</th>\n",
       "      <td>0.000000</td>\n",
       "      <td>19.000000</td>\n",
       "      <td>0.000000</td>\n",
       "      <td>250.000000</td>\n",
       "      <td>4.000000</td>\n",
       "    </tr>\n",
       "    <tr>\n",
       "      <th>25%</th>\n",
       "      <td>265.000000</td>\n",
       "      <td>27.000000</td>\n",
       "      <td>2.000000</td>\n",
       "      <td>1364.000000</td>\n",
       "      <td>12.000000</td>\n",
       "    </tr>\n",
       "    <tr>\n",
       "      <th>50%</th>\n",
       "      <td>502.000000</td>\n",
       "      <td>33.000000</td>\n",
       "      <td>2.000000</td>\n",
       "      <td>2320.000000</td>\n",
       "      <td>18.000000</td>\n",
       "    </tr>\n",
       "    <tr>\n",
       "      <th>75%</th>\n",
       "      <td>734.000000</td>\n",
       "      <td>42.000000</td>\n",
       "      <td>2.000000</td>\n",
       "      <td>3984.500000</td>\n",
       "      <td>24.000000</td>\n",
       "    </tr>\n",
       "    <tr>\n",
       "      <th>max</th>\n",
       "      <td>999.000000</td>\n",
       "      <td>75.000000</td>\n",
       "      <td>3.000000</td>\n",
       "      <td>18424.000000</td>\n",
       "      <td>72.000000</td>\n",
       "    </tr>\n",
       "  </tbody>\n",
       "</table>\n",
       "</div>"
      ],
      "text/plain": [
       "        Unnamed: 0          Age          Job  Credit amount     Duration\n",
       "count  1061.000000  1058.000000  1055.000000    1055.000000  1056.000000\n",
       "mean    499.549482    35.483932     1.906161    3269.879621    20.942235\n",
       "std     281.273262    11.285586     0.648828    2800.110643    12.091573\n",
       "min       0.000000    19.000000     0.000000     250.000000     4.000000\n",
       "25%     265.000000    27.000000     2.000000    1364.000000    12.000000\n",
       "50%     502.000000    33.000000     2.000000    2320.000000    18.000000\n",
       "75%     734.000000    42.000000     2.000000    3984.500000    24.000000\n",
       "max     999.000000    75.000000     3.000000   18424.000000    72.000000"
      ]
     },
     "execution_count": 305,
     "metadata": {},
     "output_type": "execute_result"
    }
   ],
   "source": [
    "datos.describe() #Descripción de los datos numéricos del dataset."
   ]
  },
  {
   "cell_type": "code",
   "execution_count": 306,
   "metadata": {},
   "outputs": [
    {
     "data": {
      "text/plain": [
       "(535, 11)"
      ]
     },
     "execution_count": 306,
     "metadata": {},
     "output_type": "execute_result"
    }
   ],
   "source": [
    "datos.dropna().shape #Si se eliminan las filas y columnas donde hay datos faltantes el tamaño del dataset se reduce a:"
   ]
  },
  {
   "cell_type": "code",
   "execution_count": 307,
   "metadata": {},
   "outputs": [
    {
     "name": "stdout",
     "output_type": "stream",
     "text": [
      "<class 'pandas.core.frame.DataFrame'>\n",
      "RangeIndex: 1062 entries, 0 to 1061\n",
      "Data columns (total 11 columns):\n",
      "Unnamed: 0          1061 non-null float64\n",
      "Age                 1058 non-null float64\n",
      "Sex                 1052 non-null object\n",
      "Job                 1055 non-null float64\n",
      "Housing             1052 non-null object\n",
      "Saving accounts     862 non-null object\n",
      "Checking account    635 non-null object\n",
      "Credit amount       1055 non-null float64\n",
      "Duration            1056 non-null float64\n",
      "Purpose             1051 non-null object\n",
      "Risk                1046 non-null object\n",
      "dtypes: float64(5), object(6)\n",
      "memory usage: 91.3+ KB\n"
     ]
    }
   ],
   "source": [
    "datos.info() # Información general de los datos de cada columna"
   ]
  },
  {
   "cell_type": "markdown",
   "metadata": {},
   "source": [
    "## Visualización de datos"
   ]
  },
  {
   "cell_type": "code",
   "execution_count": 308,
   "metadata": {},
   "outputs": [
    {
     "data": {
      "image/png": "[encoded data removed]",
      "text/plain": [
       "<Figure size 936x936 with 2 Axes>"
      ]
     },
     "metadata": {},
     "output_type": "display_data"
    }
   ],
   "source": [
    "plt.figure(figsize=(13,13)) #Gráfica de correlación de las variables del dataset\n",
    "sns.heatmap(datos.corr(), annot=True, square=True, cmap='coolwarm')\n",
    "plt.show()\n",
    "#Ninguna variable tiene correlacción con otra mayor a 0.7"
   ]
  },
  {
   "cell_type": "code",
   "execution_count": 309,
   "metadata": {},
   "outputs": [
    {
     "data": {
      "image/png": "[encoded data removed]",
      "text/plain": [
       "<Figure size 1080x360 with 3 Axes>"
      ]
     },
     "metadata": {},
     "output_type": "display_data"
    }
   ],
   "source": [
    "plt.figure(figsize=(15,5))\n",
    "      \n",
    "plt.subplot(131)\n",
    "datos['Duration'].plot.kde();\n",
    "plt.title(\"Duración\")\n",
    "\n",
    "plt.subplot(132)\n",
    "datos['Age'].plot.kde();\n",
    "plt.title(\"Edad\")\n",
    "\n",
    "plt.subplot(133)\n",
    "datos['Credit amount'].plot.kde();\n",
    "plt.title(\"Monto del crédito\");\n",
    "\n",
    "plt.tight_layout()"
   ]
  },
  {
   "cell_type": "code",
   "execution_count": 310,
   "metadata": {},
   "outputs": [
    {
     "data": {
      "image/png": "[encoded data removed]",
      "text/plain": [
       "<Figure size 1080x360 with 3 Axes>"
      ]
     },
     "metadata": {},
     "output_type": "display_data"
    }
   ],
   "source": [
    "plt.figure(figsize=(15,5))\n",
    "      \n",
    "plt.subplot(131)\n",
    "datos['Credit amount'].plot.box(); #Visualización del monto del crédito que solicita una persona\n",
    "plt.title(\"Monto del crédito\");\n",
    "\n",
    "plt.subplot(132)\n",
    "datos['Age'].plot.box(); #Visualización de la edad de las personas que solicitan un crédito\n",
    "plt.title(\"Edad\");\n",
    "\n",
    "plt.subplot(133)\n",
    "datos['Duration'].plot.box(); #Visualización del monto del crédito que solicita una persona\n",
    "plt.title(\"Duración\");\n",
    "\n",
    "plt.tight_layout()"
   ]
  },
  {
   "cell_type": "markdown",
   "metadata": {},
   "source": [
    "- Se observan valores atípicos superiores a 5500 aproximadamente en la visualización del monto del crédito que solicita una persona.\n",
    "- Se observan datos atípicos superiores a 59 en la visualización de la edad de las personas que solicitan un crédito.\n",
    "- Se observan datos atípicos superiores a 42 en la visualización del monto del crédito que solicita una persona.\n",
    "\n",
    "Estos valores no estas muy alejados de los reales y por lo tanto dependiendo del caso se pueden considerar atípicos o no."
   ]
  },
  {
   "cell_type": "code",
   "execution_count": 311,
   "metadata": {},
   "outputs": [
    {
     "data": {
      "image/png": "[encoded data removed]",
      "text/plain": [
       "<Figure size 1080x1440 with 6 Axes>"
      ]
     },
     "metadata": {},
     "output_type": "display_data"
    }
   ],
   "source": [
    "plt.figure(figsize=(15,20))\n",
    "      \n",
    "plt.subplot(521)\n",
    "sns.countplot(x='Sex',data=datos); #Visualización del sexo de las personas que desean adquirir un crédito\n",
    "plt.title(\"Sexo\");\n",
    "\n",
    "plt.subplot(522)\n",
    "sns.countplot(x='Job',data=datos); #Visualización del desempeño de las personas en su trabajo\n",
    "plt.title(\"Trabajo\");\n",
    "\n",
    "plt.subplot(523)\n",
    "sns.countplot(x='Housing',data=datos); #Visualización del alojamiento\n",
    "plt.title(\"Housing\");\n",
    "\n",
    "plt.subplot(524)\n",
    "sns.countplot(x='Saving accounts',data=datos); #Visualización de la cuenta de ahorros\n",
    "plt.title(\"Saving accounts\");\n",
    "\n",
    "plt.subplot(525)\n",
    "sns.countplot(x='Checking account',data=datos); #Visualización de la cuenta corriente\n",
    "plt.title(\"Checking account\");\n",
    "\n",
    "plt.subplot(526)\n",
    "sns.countplot(x='Purpose',data=datos); #Visualización del propósito\n",
    "plt.title(\"Purpose\");\n",
    "\n",
    "plt.tight_layout()"
   ]
  },
  {
   "cell_type": "markdown",
   "metadata": {},
   "source": [
    "- Los hombres realizan más tramites para un crédito que las mujeres.\n",
    "- El número de personas que estan calificadas es superior."
   ]
  },
  {
   "cell_type": "code",
   "execution_count": 312,
   "metadata": {
    "scrolled": true
   },
   "outputs": [
    {
     "data": {
      "image/png": "[encoded data removed]",
      "text/plain": [
       "<Figure size 432x288 with 1 Axes>"
      ]
     },
     "metadata": {},
     "output_type": "display_data"
    }
   ],
   "source": [
    "sns.countplot(x='Risk',data=datos); #Visualización del riesgo"
   ]
  },
  {
   "cell_type": "markdown",
   "metadata": {},
   "source": [
    "- Se observa que la probabilidad de que el riesgo sea bajo es mayor a la probabilidad de que el riesgo sea alto al momento de prestar un crédito"
   ]
  },
  {
   "cell_type": "code",
   "execution_count": 313,
   "metadata": {
    "scrolled": true
   },
   "outputs": [
    {
     "data": {
      "image/png": "[encoded data removed]",
      "text/plain": [
       "<Figure size 432x432 with 3 Axes>"
      ]
     },
     "metadata": {},
     "output_type": "display_data"
    }
   ],
   "source": [
    "sns.jointplot(x='Duration',y='Age',data=datos,kind='hex'); \n",
    "#Duración del crédito vs edad de la persona que solicitó el crédito"
   ]
  },
  {
   "cell_type": "markdown",
   "metadata": {},
   "source": [
    "- Se observa que la edad no depende de la duración del crédito realizado."
   ]
  },
  {
   "cell_type": "markdown",
   "metadata": {},
   "source": [
    "## Preparación de datos\n",
    "#### Transformación de variables"
   ]
  },
  {
   "cell_type": "code",
   "execution_count": 314,
   "metadata": {},
   "outputs": [
    {
     "data": {
      "text/plain": [
       "0.100      936.40\n",
       "0.500     2320.00\n",
       "0.900     7150.40\n",
       "0.925     7811.45\n",
       "1.000    18424.00\n",
       "Name: Credit amount, dtype: float64"
      ]
     },
     "execution_count": 314,
     "metadata": {},
     "output_type": "execute_result"
    }
   ],
   "source": [
    "datos['Credit amount'].quantile([0.1,0.5,0.9,0.925,1]) \n",
    "#Se buscan los cuartiles para definir el valor por el cual reemplzar los valores atípicos"
   ]
  },
  {
   "cell_type": "code",
   "execution_count": 315,
   "metadata": {},
   "outputs": [
    {
     "data": {
      "text/plain": [
       "0.10    23.0\n",
       "0.50    33.0\n",
       "0.90    52.0\n",
       "0.96    61.0\n",
       "1.00    75.0\n",
       "Name: Age, dtype: float64"
      ]
     },
     "execution_count": 315,
     "metadata": {},
     "output_type": "execute_result"
    }
   ],
   "source": [
    "datos['Age'].quantile([0.1,0.5,0.9,0.96,1])\n",
    "#Se buscan los cuartiles para definir el valor por el cual reemplzar los valores atípicos"
   ]
  },
  {
   "cell_type": "code",
   "execution_count": 316,
   "metadata": {},
   "outputs": [
    {
     "data": {
      "text/plain": [
       "0.10     9.0\n",
       "0.50    18.0\n",
       "0.90    36.0\n",
       "0.93    42.0\n",
       "1.00    72.0\n",
       "Name: Duration, dtype: float64"
      ]
     },
     "execution_count": 316,
     "metadata": {},
     "output_type": "execute_result"
    }
   ],
   "source": [
    "datos['Duration'].quantile([0.1,0.5,0.9,0.93,1])\n",
    "#Se buscan los cuartiles para definir el valor por el cual reemplzar los valores atípicos"
   ]
  },
  {
   "cell_type": "code",
   "execution_count": 317,
   "metadata": {},
   "outputs": [],
   "source": [
    "#Se cambian los datos atípicos de las variables Credit amount, Age y Duration\n",
    "#Con el cuartil 0.925 se puede calcular el valor aproximado de la linea del boxplot\n",
    "for x in range (0,len(datos)):\n",
    "    if datos['Credit amount'][x] > 7811.45:\n",
    "        datos['Credit amount'][x] = 7811.45\n",
    "        \n",
    "#Con el cuartil 0.93 se puede calcular el valor aproximado de la linea del boxplot              \n",
    "for z in range (0,len(datos)):\n",
    "     if datos['Duration'][z] > 42:\n",
    "              datos['Duration'][z] = 42\n",
    "                \n",
    "#Con el cuartil 0.96 se puede calcular el valor aproximado de la linea del boxplot\n",
    "for z in range (0,len(datos)):\n",
    "      if datos['Age'][z] > 61:\n",
    "            datos['Age'][z] = 61\n",
    "            \n",
    "import warnings\n",
    "warnings.filterwarnings('ignore')"
   ]
  },
  {
   "cell_type": "code",
   "execution_count": 318,
   "metadata": {},
   "outputs": [
    {
     "data": {
      "image/png": "[encoded data removed]",
      "text/plain": [
       "<Figure size 1080x360 with 3 Axes>"
      ]
     },
     "metadata": {},
     "output_type": "display_data"
    }
   ],
   "source": [
    "#Visualización de los boxplot con la reducción de datos atípicos\n",
    "plt.figure(figsize=(15,5))\n",
    "      \n",
    "plt.subplot(131)\n",
    "datos['Credit amount'].plot.box(); #Visualización del monto del crédito que solicita una persona\n",
    "plt.title(\"Monto del crédito\");\n",
    "\n",
    "plt.subplot(132)\n",
    "datos['Age'].plot.box(); #Visualización de la edad de las personas que solicitan un crédito\n",
    "plt.title(\"Edad\");\n",
    "\n",
    "plt.subplot(133)\n",
    "datos['Duration'].plot.box(); #Visualización del monto del crédito que solicita una persona\n",
    "plt.title(\"Duración\");\n",
    "\n",
    "plt.tight_layout()"
   ]
  },
  {
   "cell_type": "code",
   "execution_count": 319,
   "metadata": {},
   "outputs": [
    {
     "data": {
      "text/plain": [
       "0       False\n",
       "1       False\n",
       "2       False\n",
       "3       False\n",
       "4       False\n",
       "5       False\n",
       "6       False\n",
       "7       False\n",
       "8       False\n",
       "9       False\n",
       "10      False\n",
       "11      False\n",
       "12      False\n",
       "13      False\n",
       "14      False\n",
       "15      False\n",
       "16      False\n",
       "17      False\n",
       "18      False\n",
       "19      False\n",
       "20      False\n",
       "21      False\n",
       "22      False\n",
       "23      False\n",
       "24      False\n",
       "25      False\n",
       "26      False\n",
       "27      False\n",
       "28      False\n",
       "29      False\n",
       "        ...  \n",
       "1032     True\n",
       "1033     True\n",
       "1034     True\n",
       "1035     True\n",
       "1036     True\n",
       "1037     True\n",
       "1038     True\n",
       "1039     True\n",
       "1040     True\n",
       "1041     True\n",
       "1042     True\n",
       "1043    False\n",
       "1044     True\n",
       "1045     True\n",
       "1046     True\n",
       "1047     True\n",
       "1048     True\n",
       "1049     True\n",
       "1050     True\n",
       "1051     True\n",
       "1052     True\n",
       "1053     True\n",
       "1054     True\n",
       "1055     True\n",
       "1056     True\n",
       "1057     True\n",
       "1058     True\n",
       "1059     True\n",
       "1060     True\n",
       "1061     True\n",
       "Name: Unnamed: 0, Length: 1062, dtype: bool"
      ]
     },
     "execution_count": 319,
     "metadata": {},
     "output_type": "execute_result"
    }
   ],
   "source": [
    "datos['Unnamed: 0'].duplicated() #Verificar si hay datos duplicados. Se selecciona el identificador de usuario para la comparación."
   ]
  },
  {
   "cell_type": "code",
   "execution_count": 320,
   "metadata": {},
   "outputs": [
    {
     "data": {
      "text/html": [
       "<div>\n",
       "<style scoped>\n",
       "    .dataframe tbody tr th:only-of-type {\n",
       "        vertical-align: middle;\n",
       "    }\n",
       "\n",
       "    .dataframe tbody tr th {\n",
       "        vertical-align: top;\n",
       "    }\n",
       "\n",
       "    .dataframe thead th {\n",
       "        text-align: right;\n",
       "    }\n",
       "</style>\n",
       "<table border=\"1\" class=\"dataframe\">\n",
       "  <thead>\n",
       "    <tr style=\"text-align: right;\">\n",
       "      <th></th>\n",
       "      <th>Unnamed: 0</th>\n",
       "      <th>Age</th>\n",
       "      <th>Sex</th>\n",
       "      <th>Job</th>\n",
       "      <th>Housing</th>\n",
       "      <th>Saving accounts</th>\n",
       "      <th>Checking account</th>\n",
       "      <th>Credit amount</th>\n",
       "      <th>Duration</th>\n",
       "      <th>Purpose</th>\n",
       "      <th>Risk</th>\n",
       "    </tr>\n",
       "  </thead>\n",
       "  <tbody>\n",
       "    <tr>\n",
       "      <th>419</th>\n",
       "      <td>419.0</td>\n",
       "      <td>33.0</td>\n",
       "      <td>NaN</td>\n",
       "      <td>NaN</td>\n",
       "      <td>NaN</td>\n",
       "      <td>NaN</td>\n",
       "      <td>NaN</td>\n",
       "      <td>NaN</td>\n",
       "      <td>NaN</td>\n",
       "      <td>NaN</td>\n",
       "      <td>bad</td>\n",
       "    </tr>\n",
       "    <tr>\n",
       "      <th>1058</th>\n",
       "      <td>419.0</td>\n",
       "      <td>33.0</td>\n",
       "      <td>female</td>\n",
       "      <td>2.0</td>\n",
       "      <td>own</td>\n",
       "      <td>NaN</td>\n",
       "      <td>moderate</td>\n",
       "      <td>1042.0</td>\n",
       "      <td>18.0</td>\n",
       "      <td>car</td>\n",
       "      <td>bad</td>\n",
       "    </tr>\n",
       "  </tbody>\n",
       "</table>\n",
       "</div>"
      ],
      "text/plain": [
       "      Unnamed: 0   Age     Sex  Job Housing Saving accounts Checking account  \\\n",
       "419        419.0  33.0     NaN  NaN     NaN             NaN              NaN   \n",
       "1058       419.0  33.0  female  2.0     own             NaN         moderate   \n",
       "\n",
       "      Credit amount  Duration Purpose Risk  \n",
       "419             NaN       NaN     NaN  bad  \n",
       "1058         1042.0      18.0     car  bad  "
      ]
     },
     "execution_count": 320,
     "metadata": {},
     "output_type": "execute_result"
    }
   ],
   "source": [
    "datos[datos['Unnamed: 0']==419.0] #Se verifica que los datos estan duplicados. \n",
    "#En este ejemplo los datos de la fila 519 y 1058 del dataset estan duplicados"
   ]
  },
  {
   "cell_type": "code",
   "execution_count": 321,
   "metadata": {},
   "outputs": [],
   "source": [
    "datos.drop_duplicates(['Unnamed: 0'], keep='last', inplace=True) #Se eliminan las filas que contienen datos duplicados. keep='last' se deja la ultima fila que esta duplicada, ya que en la mayoria de los casos contiene más información."
   ]
  },
  {
   "cell_type": "code",
   "execution_count": 322,
   "metadata": {},
   "outputs": [
    {
     "data": {
      "text/plain": [
       "(1001, 11)"
      ]
     },
     "execution_count": 322,
     "metadata": {},
     "output_type": "execute_result"
    }
   ],
   "source": [
    "datos.shape #Eliminando los datos duplicados, el tamaño del dataset se reduce a: (Se eliminaron 61 filas)"
   ]
  },
  {
   "cell_type": "code",
   "execution_count": 323,
   "metadata": {},
   "outputs": [
    {
     "data": {
      "text/plain": [
       "673.0    1\n",
       "327.0    1\n",
       "274.0    1\n",
       "913.0    1\n",
       "278.0    1\n",
       "618.0    1\n",
       "282.0    1\n",
       "262.0    1\n",
       "435.0    1\n",
       "266.0    1\n",
       "835.0    1\n",
       "828.0    1\n",
       "341.0    1\n",
       "820.0    1\n",
       "812.0    1\n",
       "804.0    1\n",
       "557.0    1\n",
       "809.0    1\n",
       "780.0    1\n",
       "594.0    1\n",
       "772.0    1\n",
       "764.0    1\n",
       "487.0    1\n",
       "756.0    1\n",
       "695.0    1\n",
       "732.0    1\n",
       "461.0    1\n",
       "724.0    1\n",
       "716.0    1\n",
       "287.0    1\n",
       "        ..\n",
       "968.0    1\n",
       "476.0    1\n",
       "952.0    1\n",
       "920.0    1\n",
       "904.0    1\n",
       "872.0    1\n",
       "856.0    1\n",
       "402.0    1\n",
       "824.0    1\n",
       "808.0    1\n",
       "498.0    1\n",
       "776.0    1\n",
       "760.0    1\n",
       "668.0    1\n",
       "728.0    1\n",
       "712.0    1\n",
       "980.0    1\n",
       "680.0    1\n",
       "648.0    1\n",
       "972.0    1\n",
       "632.0    1\n",
       "600.0    1\n",
       "964.0    1\n",
       "584.0    1\n",
       "552.0    1\n",
       "956.0    1\n",
       "536.0    1\n",
       "492.0    1\n",
       "948.0    1\n",
       "0.0      1\n",
       "Name: Unnamed: 0, Length: 1000, dtype: int64"
      ]
     },
     "execution_count": 323,
     "metadata": {},
     "output_type": "execute_result"
    }
   ],
   "source": [
    "datos['Unnamed: 0'].value_counts() #Se verifica que no se encuentren datos duplicados"
   ]
  },
  {
   "cell_type": "markdown",
   "metadata": {},
   "source": [
    "### Transformación de datos"
   ]
  },
  {
   "cell_type": "code",
   "execution_count": 324,
   "metadata": {},
   "outputs": [
    {
     "data": {
      "text/plain": [
       "(522, 11)"
      ]
     },
     "execution_count": 324,
     "metadata": {},
     "output_type": "execute_result"
    }
   ],
   "source": [
    "datos.dropna().shape #Si se eliminan las filas y columnas donde hay datos faltantes el tamaño del dataset se reduce a:"
   ]
  },
  {
   "cell_type": "code",
   "execution_count": 325,
   "metadata": {
    "scrolled": true
   },
   "outputs": [
    {
     "data": {
      "text/plain": [
       "Unnamed: 0           True\n",
       "Age                  True\n",
       "Sex                  True\n",
       "Job                 False\n",
       "Housing             False\n",
       "Saving accounts      True\n",
       "Checking account     True\n",
       "Credit amount       False\n",
       "Duration            False\n",
       "Purpose             False\n",
       "Risk                False\n",
       "dtype: bool"
      ]
     },
     "execution_count": 325,
     "metadata": {},
     "output_type": "execute_result"
    }
   ],
   "source": [
    "datos.isnull().any(axis=0) #Verificar si las columnas tienen datos nulos"
   ]
  },
  {
   "cell_type": "code",
   "execution_count": 326,
   "metadata": {},
   "outputs": [
    {
     "name": "stdout",
     "output_type": "stream",
     "text": [
      "Unnamed: 0 \n",
      " False    1000\n",
      "True        1\n",
      "Name: Unnamed: 0, dtype: int64\n",
      "Age: \n",
      " False    1000\n",
      "True        1\n",
      "Name: Age, dtype: int64\n",
      "Sex: \n",
      " False    1000\n",
      "True        1\n",
      "Name: Sex, dtype: int64\n",
      "Saving accounts: \n",
      " False    817\n",
      "True     184\n",
      "Name: Saving accounts, dtype: int64\n",
      "Checking account: \n",
      " False    607\n",
      "True     394\n",
      "Name: Checking account, dtype: int64\n"
     ]
    }
   ],
   "source": [
    "#Se verifica cuantas variables nulas tiene cada columna\n",
    "a = datos['Age'].isnull().value_counts() \n",
    "b = datos['Sex'].isnull().value_counts() \n",
    "c = datos['Saving accounts'].isnull().value_counts() \n",
    "d = datos['Unnamed: 0'].isnull().value_counts()\n",
    "e = datos['Checking account'].isnull().value_counts()\n",
    "print('Unnamed: 0 \\n',d)\n",
    "print('Age: \\n',a)\n",
    "print('Sex: \\n',b)\n",
    "print('Saving accounts: \\n',c)\n",
    "print('Checking account: \\n',e)"
   ]
  },
  {
   "cell_type": "code",
   "execution_count": 327,
   "metadata": {},
   "outputs": [
    {
     "name": "stdout",
     "output_type": "stream",
     "text": [
      "Sex \n",
      " 0    male\n",
      "dtype: object\n",
      "Saving accounts: \n",
      " 0    little\n",
      "dtype: object\n",
      "Checking account: \n",
      " 0    little\n",
      "dtype: object\n"
     ]
    }
   ],
   "source": [
    "#Verificar cual es el dato que más se repite en cada columna categórica\n",
    "f = datos['Sex'].mode() \n",
    "g = datos['Saving accounts'].mode()\n",
    "h = datos['Checking account'].mode()\n",
    "print('Sex \\n',f)\n",
    "print('Saving accounts: \\n',g)\n",
    "print('Checking account: \\n',h)"
   ]
  },
  {
   "cell_type": "code",
   "execution_count": 328,
   "metadata": {},
   "outputs": [],
   "source": [
    "#Llenar los datos nulos de la columna Age con la media, de esta manera no se altera la estadística de los datos\n",
    "datos['Age'] = datos['Age'].fillna(datos['Age'].median()) \n",
    "\n",
    "#Llenar los datos nulos de las columna Sex y Saving accounts con la moda, es decir, con el dato que más acurrencias tiene\n",
    "datos['Sex'] = datos['Sex'].fillna('male')\n",
    "datos['Saving accounts'] = datos['Saving accounts'].fillna('little')"
   ]
  },
  {
   "cell_type": "code",
   "execution_count": 329,
   "metadata": {},
   "outputs": [
    {
     "data": {
      "text/plain": [
       "Unnamed: 0           True\n",
       "Age                 False\n",
       "Sex                 False\n",
       "Job                 False\n",
       "Housing             False\n",
       "Saving accounts     False\n",
       "Checking account     True\n",
       "Credit amount       False\n",
       "Duration            False\n",
       "Purpose             False\n",
       "Risk                False\n",
       "dtype: bool"
      ]
     },
     "execution_count": 329,
     "metadata": {},
     "output_type": "execute_result"
    }
   ],
   "source": [
    "datos.isnull().any(axis=0) #Verificar si las columnas tienen datos nulos"
   ]
  },
  {
   "cell_type": "code",
   "execution_count": 330,
   "metadata": {},
   "outputs": [
    {
     "data": {
      "text/html": [
       "<div>\n",
       "<style scoped>\n",
       "    .dataframe tbody tr th:only-of-type {\n",
       "        vertical-align: middle;\n",
       "    }\n",
       "\n",
       "    .dataframe tbody tr th {\n",
       "        vertical-align: top;\n",
       "    }\n",
       "\n",
       "    .dataframe thead th {\n",
       "        text-align: right;\n",
       "    }\n",
       "</style>\n",
       "<table border=\"1\" class=\"dataframe\">\n",
       "  <thead>\n",
       "    <tr style=\"text-align: right;\">\n",
       "      <th></th>\n",
       "      <th>Unnamed: 0</th>\n",
       "      <th>Age</th>\n",
       "      <th>Sex</th>\n",
       "      <th>Job</th>\n",
       "      <th>Housing</th>\n",
       "      <th>Saving accounts</th>\n",
       "      <th>Credit amount</th>\n",
       "      <th>Duration</th>\n",
       "      <th>Purpose</th>\n",
       "      <th>Risk</th>\n",
       "    </tr>\n",
       "  </thead>\n",
       "  <tbody>\n",
       "    <tr>\n",
       "      <th>0</th>\n",
       "      <td>0.0</td>\n",
       "      <td>61.0</td>\n",
       "      <td>male</td>\n",
       "      <td>2.0</td>\n",
       "      <td>own</td>\n",
       "      <td>little</td>\n",
       "      <td>1169.00</td>\n",
       "      <td>6.0</td>\n",
       "      <td>radio/TV</td>\n",
       "      <td>good</td>\n",
       "    </tr>\n",
       "    <tr>\n",
       "      <th>1</th>\n",
       "      <td>1.0</td>\n",
       "      <td>22.0</td>\n",
       "      <td>female</td>\n",
       "      <td>2.0</td>\n",
       "      <td>own</td>\n",
       "      <td>little</td>\n",
       "      <td>5951.00</td>\n",
       "      <td>42.0</td>\n",
       "      <td>radio/TV</td>\n",
       "      <td>bad</td>\n",
       "    </tr>\n",
       "    <tr>\n",
       "      <th>2</th>\n",
       "      <td>2.0</td>\n",
       "      <td>49.0</td>\n",
       "      <td>male</td>\n",
       "      <td>1.0</td>\n",
       "      <td>own</td>\n",
       "      <td>little</td>\n",
       "      <td>2096.00</td>\n",
       "      <td>12.0</td>\n",
       "      <td>education</td>\n",
       "      <td>good</td>\n",
       "    </tr>\n",
       "    <tr>\n",
       "      <th>3</th>\n",
       "      <td>3.0</td>\n",
       "      <td>45.0</td>\n",
       "      <td>male</td>\n",
       "      <td>2.0</td>\n",
       "      <td>free</td>\n",
       "      <td>little</td>\n",
       "      <td>7811.45</td>\n",
       "      <td>42.0</td>\n",
       "      <td>furniture/equipment</td>\n",
       "      <td>good</td>\n",
       "    </tr>\n",
       "    <tr>\n",
       "      <th>4</th>\n",
       "      <td>4.0</td>\n",
       "      <td>53.0</td>\n",
       "      <td>male</td>\n",
       "      <td>2.0</td>\n",
       "      <td>free</td>\n",
       "      <td>little</td>\n",
       "      <td>4870.00</td>\n",
       "      <td>24.0</td>\n",
       "      <td>car</td>\n",
       "      <td>bad</td>\n",
       "    </tr>\n",
       "  </tbody>\n",
       "</table>\n",
       "</div>"
      ],
      "text/plain": [
       "   Unnamed: 0   Age     Sex  Job Housing Saving accounts  Credit amount  \\\n",
       "0         0.0  61.0    male  2.0     own          little        1169.00   \n",
       "1         1.0  22.0  female  2.0     own          little        5951.00   \n",
       "2         2.0  49.0    male  1.0     own          little        2096.00   \n",
       "3         3.0  45.0    male  2.0    free          little        7811.45   \n",
       "4         4.0  53.0    male  2.0    free          little        4870.00   \n",
       "\n",
       "   Duration              Purpose  Risk  \n",
       "0       6.0             radio/TV  good  \n",
       "1      42.0             radio/TV   bad  \n",
       "2      12.0            education  good  \n",
       "3      42.0  furniture/equipment  good  \n",
       "4      24.0                  car   bad  "
      ]
     },
     "execution_count": 330,
     "metadata": {},
     "output_type": "execute_result"
    }
   ],
   "source": [
    "#Eliminar columnas con datos irrelevantes para el análisis\n",
    "datos = datos.drop(['Checking account'],axis=1) \n",
    "datos.head()\n",
    "#Se elimina la cuenta corriente (Checking account). Esta variable se tiene en cuenta cuando un cliente tiene una gran cantidad de dinero, sin embargo esta columna cuenta con muchos datos vacíos y puede dañar la predicción si se llena con la moda."
   ]
  },
  {
   "cell_type": "code",
   "execution_count": 331,
   "metadata": {
    "scrolled": false
   },
   "outputs": [
    {
     "data": {
      "text/plain": [
       "Unnamed: 0          True\n",
       "Age                False\n",
       "Sex                False\n",
       "Job                False\n",
       "Housing            False\n",
       "Saving accounts    False\n",
       "Credit amount      False\n",
       "Duration           False\n",
       "Purpose            False\n",
       "Risk               False\n",
       "dtype: bool"
      ]
     },
     "execution_count": 331,
     "metadata": {},
     "output_type": "execute_result"
    }
   ],
   "source": [
    "datos.isnull().any(axis=0) #Verificar si hay datos nulos"
   ]
  },
  {
   "cell_type": "code",
   "execution_count": 332,
   "metadata": {},
   "outputs": [
    {
     "data": {
      "text/plain": [
       "(1000, 10)"
      ]
     },
     "execution_count": 332,
     "metadata": {},
     "output_type": "execute_result"
    }
   ],
   "source": [
    "#Se elimina el dato nulo que tiene la variable Unnamed: 0, ya que esta representa identificación de usuario y no es posible reemplazarlo por un valor medio.\n",
    "#Si hay un dato nulo se elimina y el tamaño del dataset se reduce a:\n",
    "datos.dropna(inplace=True) \n",
    "datos.shape"
   ]
  },
  {
   "cell_type": "code",
   "execution_count": 333,
   "metadata": {},
   "outputs": [
    {
     "data": {
      "text/plain": [
       "Unnamed: 0         False\n",
       "Age                False\n",
       "Sex                False\n",
       "Job                False\n",
       "Housing            False\n",
       "Saving accounts    False\n",
       "Credit amount      False\n",
       "Duration           False\n",
       "Purpose            False\n",
       "Risk               False\n",
       "dtype: bool"
      ]
     },
     "execution_count": 333,
     "metadata": {},
     "output_type": "execute_result"
    }
   ],
   "source": [
    "datos.isnull().any(axis=0) #Verificar si hay datos nulos"
   ]
  },
  {
   "cell_type": "code",
   "execution_count": 334,
   "metadata": {},
   "outputs": [
    {
     "data": {
      "text/plain": [
       "dtype('float64')"
      ]
     },
     "execution_count": 334,
     "metadata": {},
     "output_type": "execute_result"
    }
   ],
   "source": [
    "datos['Job'].dtypes"
   ]
  },
  {
   "cell_type": "code",
   "execution_count": 335,
   "metadata": {},
   "outputs": [],
   "source": [
    "#Convertir de numérico a categórica la columna Job\n",
    "#Es 1 si cumple la condicion y es 0 si no la cumple\n",
    "#Esto se hace con el fin de poner las variables en un lenguaje que la máquina pueda entender para luego aplicar algoritmos.\n",
    "dummy_cols = 'Job'.split(\",\")\n",
    "df2 = pd.get_dummies(datos, columns=dummy_cols)\n",
    "cols = [c for c in df2.columns if c not in dummy_cols]\n",
    "datos = df2[cols]"
   ]
  },
  {
   "cell_type": "code",
   "execution_count": 336,
   "metadata": {},
   "outputs": [
    {
     "data": {
      "text/plain": [
       "False"
      ]
     },
     "execution_count": 336,
     "metadata": {},
     "output_type": "execute_result"
    }
   ],
   "source": [
    "#Se verifica que no falta algún dato\n",
    "datos.isnull().any(axis=0).any()"
   ]
  },
  {
   "cell_type": "code",
   "execution_count": 337,
   "metadata": {
    "scrolled": true
   },
   "outputs": [
    {
     "data": {
      "text/html": [
       "<div>\n",
       "<style scoped>\n",
       "    .dataframe tbody tr th:only-of-type {\n",
       "        vertical-align: middle;\n",
       "    }\n",
       "\n",
       "    .dataframe tbody tr th {\n",
       "        vertical-align: top;\n",
       "    }\n",
       "\n",
       "    .dataframe thead th {\n",
       "        text-align: right;\n",
       "    }\n",
       "</style>\n",
       "<table border=\"1\" class=\"dataframe\">\n",
       "  <thead>\n",
       "    <tr style=\"text-align: right;\">\n",
       "      <th></th>\n",
       "      <th>Unnamed: 0</th>\n",
       "      <th>Age</th>\n",
       "      <th>Sex</th>\n",
       "      <th>Housing</th>\n",
       "      <th>Saving accounts</th>\n",
       "      <th>Credit amount</th>\n",
       "      <th>Duration</th>\n",
       "      <th>Purpose</th>\n",
       "      <th>Risk</th>\n",
       "      <th>Job_0.0</th>\n",
       "      <th>Job_1.0</th>\n",
       "      <th>Job_2.0</th>\n",
       "      <th>Job_3.0</th>\n",
       "    </tr>\n",
       "  </thead>\n",
       "  <tbody>\n",
       "    <tr>\n",
       "      <th>0</th>\n",
       "      <td>0.0</td>\n",
       "      <td>61.0</td>\n",
       "      <td>male</td>\n",
       "      <td>own</td>\n",
       "      <td>little</td>\n",
       "      <td>1169.00</td>\n",
       "      <td>6.0</td>\n",
       "      <td>radio/TV</td>\n",
       "      <td>good</td>\n",
       "      <td>0</td>\n",
       "      <td>0</td>\n",
       "      <td>1</td>\n",
       "      <td>0</td>\n",
       "    </tr>\n",
       "    <tr>\n",
       "      <th>1</th>\n",
       "      <td>1.0</td>\n",
       "      <td>22.0</td>\n",
       "      <td>female</td>\n",
       "      <td>own</td>\n",
       "      <td>little</td>\n",
       "      <td>5951.00</td>\n",
       "      <td>42.0</td>\n",
       "      <td>radio/TV</td>\n",
       "      <td>bad</td>\n",
       "      <td>0</td>\n",
       "      <td>0</td>\n",
       "      <td>1</td>\n",
       "      <td>0</td>\n",
       "    </tr>\n",
       "    <tr>\n",
       "      <th>2</th>\n",
       "      <td>2.0</td>\n",
       "      <td>49.0</td>\n",
       "      <td>male</td>\n",
       "      <td>own</td>\n",
       "      <td>little</td>\n",
       "      <td>2096.00</td>\n",
       "      <td>12.0</td>\n",
       "      <td>education</td>\n",
       "      <td>good</td>\n",
       "      <td>0</td>\n",
       "      <td>1</td>\n",
       "      <td>0</td>\n",
       "      <td>0</td>\n",
       "    </tr>\n",
       "    <tr>\n",
       "      <th>3</th>\n",
       "      <td>3.0</td>\n",
       "      <td>45.0</td>\n",
       "      <td>male</td>\n",
       "      <td>free</td>\n",
       "      <td>little</td>\n",
       "      <td>7811.45</td>\n",
       "      <td>42.0</td>\n",
       "      <td>furniture/equipment</td>\n",
       "      <td>good</td>\n",
       "      <td>0</td>\n",
       "      <td>0</td>\n",
       "      <td>1</td>\n",
       "      <td>0</td>\n",
       "    </tr>\n",
       "    <tr>\n",
       "      <th>4</th>\n",
       "      <td>4.0</td>\n",
       "      <td>53.0</td>\n",
       "      <td>male</td>\n",
       "      <td>free</td>\n",
       "      <td>little</td>\n",
       "      <td>4870.00</td>\n",
       "      <td>24.0</td>\n",
       "      <td>car</td>\n",
       "      <td>bad</td>\n",
       "      <td>0</td>\n",
       "      <td>0</td>\n",
       "      <td>1</td>\n",
       "      <td>0</td>\n",
       "    </tr>\n",
       "  </tbody>\n",
       "</table>\n",
       "</div>"
      ],
      "text/plain": [
       "   Unnamed: 0   Age     Sex Housing Saving accounts  Credit amount  Duration  \\\n",
       "0         0.0  61.0    male     own          little        1169.00       6.0   \n",
       "1         1.0  22.0  female     own          little        5951.00      42.0   \n",
       "2         2.0  49.0    male     own          little        2096.00      12.0   \n",
       "3         3.0  45.0    male    free          little        7811.45      42.0   \n",
       "4         4.0  53.0    male    free          little        4870.00      24.0   \n",
       "\n",
       "               Purpose  Risk  Job_0.0  Job_1.0  Job_2.0  Job_3.0  \n",
       "0             radio/TV  good        0        0        1        0  \n",
       "1             radio/TV   bad        0        0        1        0  \n",
       "2            education  good        0        1        0        0  \n",
       "3  furniture/equipment  good        0        0        1        0  \n",
       "4                  car   bad        0        0        1        0  "
      ]
     },
     "execution_count": 337,
     "metadata": {},
     "output_type": "execute_result"
    }
   ],
   "source": [
    "datos.head() #Este es el dataset final"
   ]
  }
 ],
 "metadata": {
  "kernelspec": {
   "display_name": "Python 3",
   "language": "python",
   "name": "python3"
  },
  "language_info": {
   "codemirror_mode": {
    "name": "ipython",
    "version": 3
   },
   "file_extension": ".py",
   "mimetype": "text/x-python",
   "name": "python",
   "nbconvert_exporter": "python",
   "pygments_lexer": "ipython3",
   "version": "3.6.5"
  }
 },
 "nbformat": 4,
 "nbformat_minor": 2
}
